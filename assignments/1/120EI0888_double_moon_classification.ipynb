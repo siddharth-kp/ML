{
  "nbformat": 4,
  "nbformat_minor": 0,
  "metadata": {
    "colab": {
      "provenance": []
    },
    "kernelspec": {
      "name": "python3",
      "display_name": "Python 3"
    },
    "language_info": {
      "name": "python"
    }
  },
  "cells": [
    {
      "cell_type": "code",
      "execution_count": 33,
      "metadata": {
        "id": "wzK4i7xeXRXJ"
      },
      "outputs": [],
      "source": [
        "import numpy as np\n",
        "import pandas as pd\n",
        "import matplotlib.pyplot as plt\n",
        "from sklearn import datasets"
      ]
    },
    {
      "cell_type": "code",
      "source": [
        "dataset = datasets.make_moons(n_samples=100, shuffle=True, noise=0.05, random_state=1)"
      ],
      "metadata": {
        "id": "yxxmX27fXh0_"
      },
      "execution_count": 34,
      "outputs": []
    },
    {
      "cell_type": "code",
      "source": [
        "def adjust(dataset,d):\n",
        "  for i in range(0,len(dataset[0])):\n",
        "    if dataset[1][i]==1:\n",
        "      dataset[0][i][1]-=d/2\n",
        "    else:\n",
        "      dataset[0][i][1]+=d/2\n",
        "  return dataset\n"
      ],
      "metadata": {
        "id": "sJvjJpiG8ogm"
      },
      "execution_count": 35,
      "outputs": []
    },
    {
      "cell_type": "code",
      "source": [
        "dataset\n",
        "d=0.5\n",
        "dataset=adjust(dataset,d) #  distance between two moons"
      ],
      "metadata": {
        "id": "_R-BQl6xXqRt"
      },
      "execution_count": 36,
      "outputs": []
    },
    {
      "cell_type": "code",
      "source": [
        "X=dataset[0]\n",
        "print(type(X))\n",
        "X1=np.array(X)\n",
        "X=pd.DataFrame(X1)\n",
        "X"
      ],
      "metadata": {
        "colab": {
          "base_uri": "https://localhost:8080/",
          "height": 441
        },
        "id": "PzEAqvVgYdmE",
        "outputId": "516ab3d9-85ae-4b4a-a098-4f76944f4842"
      },
      "execution_count": 37,
      "outputs": [
        {
          "output_type": "stream",
          "name": "stdout",
          "text": [
            "<class 'numpy.ndarray'>\n"
          ]
        },
        {
          "output_type": "execute_result",
          "data": {
            "text/plain": [
              "           0         1\n",
              "0   1.350769 -0.637705\n",
              "1   1.620098 -0.576537\n",
              "2  -0.483465  0.993868\n",
              "3   1.341372 -0.594804\n",
              "4   2.023108 -0.075712\n",
              "..       ...       ...\n",
              "95  1.038336 -0.805731\n",
              "96  0.763211  0.786774\n",
              "97  0.794781 -0.874053\n",
              "98  0.821253  0.948930\n",
              "99 -0.799066  0.992611\n",
              "\n",
              "[100 rows x 2 columns]"
            ],
            "text/html": [
              "\n",
              "  <div id=\"df-db0f4a95-5dc1-4fb7-848d-f319b54073e1\">\n",
              "    <div class=\"colab-df-container\">\n",
              "      <div>\n",
              "<style scoped>\n",
              "    .dataframe tbody tr th:only-of-type {\n",
              "        vertical-align: middle;\n",
              "    }\n",
              "\n",
              "    .dataframe tbody tr th {\n",
              "        vertical-align: top;\n",
              "    }\n",
              "\n",
              "    .dataframe thead th {\n",
              "        text-align: right;\n",
              "    }\n",
              "</style>\n",
              "<table border=\"1\" class=\"dataframe\">\n",
              "  <thead>\n",
              "    <tr style=\"text-align: right;\">\n",
              "      <th></th>\n",
              "      <th>0</th>\n",
              "      <th>1</th>\n",
              "    </tr>\n",
              "  </thead>\n",
              "  <tbody>\n",
              "    <tr>\n",
              "      <th>0</th>\n",
              "      <td>1.350769</td>\n",
              "      <td>-0.637705</td>\n",
              "    </tr>\n",
              "    <tr>\n",
              "      <th>1</th>\n",
              "      <td>1.620098</td>\n",
              "      <td>-0.576537</td>\n",
              "    </tr>\n",
              "    <tr>\n",
              "      <th>2</th>\n",
              "      <td>-0.483465</td>\n",
              "      <td>0.993868</td>\n",
              "    </tr>\n",
              "    <tr>\n",
              "      <th>3</th>\n",
              "      <td>1.341372</td>\n",
              "      <td>-0.594804</td>\n",
              "    </tr>\n",
              "    <tr>\n",
              "      <th>4</th>\n",
              "      <td>2.023108</td>\n",
              "      <td>-0.075712</td>\n",
              "    </tr>\n",
              "    <tr>\n",
              "      <th>...</th>\n",
              "      <td>...</td>\n",
              "      <td>...</td>\n",
              "    </tr>\n",
              "    <tr>\n",
              "      <th>95</th>\n",
              "      <td>1.038336</td>\n",
              "      <td>-0.805731</td>\n",
              "    </tr>\n",
              "    <tr>\n",
              "      <th>96</th>\n",
              "      <td>0.763211</td>\n",
              "      <td>0.786774</td>\n",
              "    </tr>\n",
              "    <tr>\n",
              "      <th>97</th>\n",
              "      <td>0.794781</td>\n",
              "      <td>-0.874053</td>\n",
              "    </tr>\n",
              "    <tr>\n",
              "      <th>98</th>\n",
              "      <td>0.821253</td>\n",
              "      <td>0.948930</td>\n",
              "    </tr>\n",
              "    <tr>\n",
              "      <th>99</th>\n",
              "      <td>-0.799066</td>\n",
              "      <td>0.992611</td>\n",
              "    </tr>\n",
              "  </tbody>\n",
              "</table>\n",
              "<p>100 rows × 2 columns</p>\n",
              "</div>\n",
              "      <button class=\"colab-df-convert\" onclick=\"convertToInteractive('df-db0f4a95-5dc1-4fb7-848d-f319b54073e1')\"\n",
              "              title=\"Convert this dataframe to an interactive table.\"\n",
              "              style=\"display:none;\">\n",
              "        \n",
              "  <svg xmlns=\"http://www.w3.org/2000/svg\" height=\"24px\"viewBox=\"0 0 24 24\"\n",
              "       width=\"24px\">\n",
              "    <path d=\"M0 0h24v24H0V0z\" fill=\"none\"/>\n",
              "    <path d=\"M18.56 5.44l.94 2.06.94-2.06 2.06-.94-2.06-.94-.94-2.06-.94 2.06-2.06.94zm-11 1L8.5 8.5l.94-2.06 2.06-.94-2.06-.94L8.5 2.5l-.94 2.06-2.06.94zm10 10l.94 2.06.94-2.06 2.06-.94-2.06-.94-.94-2.06-.94 2.06-2.06.94z\"/><path d=\"M17.41 7.96l-1.37-1.37c-.4-.4-.92-.59-1.43-.59-.52 0-1.04.2-1.43.59L10.3 9.45l-7.72 7.72c-.78.78-.78 2.05 0 2.83L4 21.41c.39.39.9.59 1.41.59.51 0 1.02-.2 1.41-.59l7.78-7.78 2.81-2.81c.8-.78.8-2.07 0-2.86zM5.41 20L4 18.59l7.72-7.72 1.47 1.35L5.41 20z\"/>\n",
              "  </svg>\n",
              "      </button>\n",
              "      \n",
              "  <style>\n",
              "    .colab-df-container {\n",
              "      display:flex;\n",
              "      flex-wrap:wrap;\n",
              "      gap: 12px;\n",
              "    }\n",
              "\n",
              "    .colab-df-convert {\n",
              "      background-color: #E8F0FE;\n",
              "      border: none;\n",
              "      border-radius: 50%;\n",
              "      cursor: pointer;\n",
              "      display: none;\n",
              "      fill: #1967D2;\n",
              "      height: 32px;\n",
              "      padding: 0 0 0 0;\n",
              "      width: 32px;\n",
              "    }\n",
              "\n",
              "    .colab-df-convert:hover {\n",
              "      background-color: #E2EBFA;\n",
              "      box-shadow: 0px 1px 2px rgba(60, 64, 67, 0.3), 0px 1px 3px 1px rgba(60, 64, 67, 0.15);\n",
              "      fill: #174EA6;\n",
              "    }\n",
              "\n",
              "    [theme=dark] .colab-df-convert {\n",
              "      background-color: #3B4455;\n",
              "      fill: #D2E3FC;\n",
              "    }\n",
              "\n",
              "    [theme=dark] .colab-df-convert:hover {\n",
              "      background-color: #434B5C;\n",
              "      box-shadow: 0px 1px 3px 1px rgba(0, 0, 0, 0.15);\n",
              "      filter: drop-shadow(0px 1px 2px rgba(0, 0, 0, 0.3));\n",
              "      fill: #FFFFFF;\n",
              "    }\n",
              "  </style>\n",
              "\n",
              "      <script>\n",
              "        const buttonEl =\n",
              "          document.querySelector('#df-db0f4a95-5dc1-4fb7-848d-f319b54073e1 button.colab-df-convert');\n",
              "        buttonEl.style.display =\n",
              "          google.colab.kernel.accessAllowed ? 'block' : 'none';\n",
              "\n",
              "        async function convertToInteractive(key) {\n",
              "          const element = document.querySelector('#df-db0f4a95-5dc1-4fb7-848d-f319b54073e1');\n",
              "          const dataTable =\n",
              "            await google.colab.kernel.invokeFunction('convertToInteractive',\n",
              "                                                     [key], {});\n",
              "          if (!dataTable) return;\n",
              "\n",
              "          const docLinkHtml = 'Like what you see? Visit the ' +\n",
              "            '<a target=\"_blank\" href=https://colab.research.google.com/notebooks/data_table.ipynb>data table notebook</a>'\n",
              "            + ' to learn more about interactive tables.';\n",
              "          element.innerHTML = '';\n",
              "          dataTable['output_type'] = 'display_data';\n",
              "          await google.colab.output.renderOutput(dataTable, element);\n",
              "          const docLink = document.createElement('div');\n",
              "          docLink.innerHTML = docLinkHtml;\n",
              "          element.appendChild(docLink);\n",
              "        }\n",
              "      </script>\n",
              "    </div>\n",
              "  </div>\n",
              "  "
            ]
          },
          "metadata": {},
          "execution_count": 37
        }
      ]
    },
    {
      "cell_type": "code",
      "source": [
        "Y=dataset[1]\n",
        "Y1=np.array(Y)\n",
        "Y=pd.DataFrame(Y1)\n",
        "Y"
      ],
      "metadata": {
        "colab": {
          "base_uri": "https://localhost:8080/",
          "height": 423
        },
        "id": "Gvx-hiL-YpO-",
        "outputId": "1b5c2272-4260-4be3-9bc4-fa8b09b432a6"
      },
      "execution_count": 38,
      "outputs": [
        {
          "output_type": "execute_result",
          "data": {
            "text/plain": [
              "    0\n",
              "0   1\n",
              "1   1\n",
              "2   0\n",
              "3   1\n",
              "4   1\n",
              ".. ..\n",
              "95  1\n",
              "96  0\n",
              "97  1\n",
              "98  0\n",
              "99  0\n",
              "\n",
              "[100 rows x 1 columns]"
            ],
            "text/html": [
              "\n",
              "  <div id=\"df-1fcb9e72-de70-4171-8e40-9a6442ca9ad5\">\n",
              "    <div class=\"colab-df-container\">\n",
              "      <div>\n",
              "<style scoped>\n",
              "    .dataframe tbody tr th:only-of-type {\n",
              "        vertical-align: middle;\n",
              "    }\n",
              "\n",
              "    .dataframe tbody tr th {\n",
              "        vertical-align: top;\n",
              "    }\n",
              "\n",
              "    .dataframe thead th {\n",
              "        text-align: right;\n",
              "    }\n",
              "</style>\n",
              "<table border=\"1\" class=\"dataframe\">\n",
              "  <thead>\n",
              "    <tr style=\"text-align: right;\">\n",
              "      <th></th>\n",
              "      <th>0</th>\n",
              "    </tr>\n",
              "  </thead>\n",
              "  <tbody>\n",
              "    <tr>\n",
              "      <th>0</th>\n",
              "      <td>1</td>\n",
              "    </tr>\n",
              "    <tr>\n",
              "      <th>1</th>\n",
              "      <td>1</td>\n",
              "    </tr>\n",
              "    <tr>\n",
              "      <th>2</th>\n",
              "      <td>0</td>\n",
              "    </tr>\n",
              "    <tr>\n",
              "      <th>3</th>\n",
              "      <td>1</td>\n",
              "    </tr>\n",
              "    <tr>\n",
              "      <th>4</th>\n",
              "      <td>1</td>\n",
              "    </tr>\n",
              "    <tr>\n",
              "      <th>...</th>\n",
              "      <td>...</td>\n",
              "    </tr>\n",
              "    <tr>\n",
              "      <th>95</th>\n",
              "      <td>1</td>\n",
              "    </tr>\n",
              "    <tr>\n",
              "      <th>96</th>\n",
              "      <td>0</td>\n",
              "    </tr>\n",
              "    <tr>\n",
              "      <th>97</th>\n",
              "      <td>1</td>\n",
              "    </tr>\n",
              "    <tr>\n",
              "      <th>98</th>\n",
              "      <td>0</td>\n",
              "    </tr>\n",
              "    <tr>\n",
              "      <th>99</th>\n",
              "      <td>0</td>\n",
              "    </tr>\n",
              "  </tbody>\n",
              "</table>\n",
              "<p>100 rows × 1 columns</p>\n",
              "</div>\n",
              "      <button class=\"colab-df-convert\" onclick=\"convertToInteractive('df-1fcb9e72-de70-4171-8e40-9a6442ca9ad5')\"\n",
              "              title=\"Convert this dataframe to an interactive table.\"\n",
              "              style=\"display:none;\">\n",
              "        \n",
              "  <svg xmlns=\"http://www.w3.org/2000/svg\" height=\"24px\"viewBox=\"0 0 24 24\"\n",
              "       width=\"24px\">\n",
              "    <path d=\"M0 0h24v24H0V0z\" fill=\"none\"/>\n",
              "    <path d=\"M18.56 5.44l.94 2.06.94-2.06 2.06-.94-2.06-.94-.94-2.06-.94 2.06-2.06.94zm-11 1L8.5 8.5l.94-2.06 2.06-.94-2.06-.94L8.5 2.5l-.94 2.06-2.06.94zm10 10l.94 2.06.94-2.06 2.06-.94-2.06-.94-.94-2.06-.94 2.06-2.06.94z\"/><path d=\"M17.41 7.96l-1.37-1.37c-.4-.4-.92-.59-1.43-.59-.52 0-1.04.2-1.43.59L10.3 9.45l-7.72 7.72c-.78.78-.78 2.05 0 2.83L4 21.41c.39.39.9.59 1.41.59.51 0 1.02-.2 1.41-.59l7.78-7.78 2.81-2.81c.8-.78.8-2.07 0-2.86zM5.41 20L4 18.59l7.72-7.72 1.47 1.35L5.41 20z\"/>\n",
              "  </svg>\n",
              "      </button>\n",
              "      \n",
              "  <style>\n",
              "    .colab-df-container {\n",
              "      display:flex;\n",
              "      flex-wrap:wrap;\n",
              "      gap: 12px;\n",
              "    }\n",
              "\n",
              "    .colab-df-convert {\n",
              "      background-color: #E8F0FE;\n",
              "      border: none;\n",
              "      border-radius: 50%;\n",
              "      cursor: pointer;\n",
              "      display: none;\n",
              "      fill: #1967D2;\n",
              "      height: 32px;\n",
              "      padding: 0 0 0 0;\n",
              "      width: 32px;\n",
              "    }\n",
              "\n",
              "    .colab-df-convert:hover {\n",
              "      background-color: #E2EBFA;\n",
              "      box-shadow: 0px 1px 2px rgba(60, 64, 67, 0.3), 0px 1px 3px 1px rgba(60, 64, 67, 0.15);\n",
              "      fill: #174EA6;\n",
              "    }\n",
              "\n",
              "    [theme=dark] .colab-df-convert {\n",
              "      background-color: #3B4455;\n",
              "      fill: #D2E3FC;\n",
              "    }\n",
              "\n",
              "    [theme=dark] .colab-df-convert:hover {\n",
              "      background-color: #434B5C;\n",
              "      box-shadow: 0px 1px 3px 1px rgba(0, 0, 0, 0.15);\n",
              "      filter: drop-shadow(0px 1px 2px rgba(0, 0, 0, 0.3));\n",
              "      fill: #FFFFFF;\n",
              "    }\n",
              "  </style>\n",
              "\n",
              "      <script>\n",
              "        const buttonEl =\n",
              "          document.querySelector('#df-1fcb9e72-de70-4171-8e40-9a6442ca9ad5 button.colab-df-convert');\n",
              "        buttonEl.style.display =\n",
              "          google.colab.kernel.accessAllowed ? 'block' : 'none';\n",
              "\n",
              "        async function convertToInteractive(key) {\n",
              "          const element = document.querySelector('#df-1fcb9e72-de70-4171-8e40-9a6442ca9ad5');\n",
              "          const dataTable =\n",
              "            await google.colab.kernel.invokeFunction('convertToInteractive',\n",
              "                                                     [key], {});\n",
              "          if (!dataTable) return;\n",
              "\n",
              "          const docLinkHtml = 'Like what you see? Visit the ' +\n",
              "            '<a target=\"_blank\" href=https://colab.research.google.com/notebooks/data_table.ipynb>data table notebook</a>'\n",
              "            + ' to learn more about interactive tables.';\n",
              "          element.innerHTML = '';\n",
              "          dataTable['output_type'] = 'display_data';\n",
              "          await google.colab.output.renderOutput(dataTable, element);\n",
              "          const docLink = document.createElement('div');\n",
              "          docLink.innerHTML = docLinkHtml;\n",
              "          element.appendChild(docLink);\n",
              "        }\n",
              "      </script>\n",
              "    </div>\n",
              "  </div>\n",
              "  "
            ]
          },
          "metadata": {},
          "execution_count": 38
        }
      ]
    },
    {
      "cell_type": "code",
      "source": [
        "x_ind= []\n",
        "y_ind= []\n",
        "for x in X1:\n",
        "  x_ind.append(x[0])\n",
        "  y_ind.append(x[1])"
      ],
      "metadata": {
        "id": "hxfnWcrzcS0C"
      },
      "execution_count": 39,
      "outputs": []
    },
    {
      "cell_type": "code",
      "source": [
        "upper_moon_x=[]\n",
        "upper_moon_y=[]\n",
        "for i in range(100):\n",
        "  if Y1[i]==1:\n",
        "    upper_moon_x.append(x_ind[i])\n",
        "    upper_moon_y.append(y_ind[i])\n",
        "plt.scatter(upper_moon_x,upper_moon_y, color='g')\n",
        "lower_moon_x=[]\n",
        "lower_moon_y=[]\n",
        "for i in range(100):\n",
        "  if Y1[i]==0:\n",
        "    lower_moon_x.append(x_ind[i])\n",
        "    lower_moon_y.append(y_ind[i])\n",
        "plt.scatter(lower_moon_x,lower_moon_y, color='r')\n",
        "plt.title('Double moon dataset')\n",
        "plt.show()"
      ],
      "metadata": {
        "id": "W9y2A0uhax6U",
        "colab": {
          "base_uri": "https://localhost:8080/",
          "height": 281
        },
        "outputId": "13142def-fa10-4166-cf68-e80486e5ef63"
      },
      "execution_count": 40,
      "outputs": [
        {
          "output_type": "display_data",
          "data": {
            "text/plain": [
              "<Figure size 432x288 with 1 Axes>"
            ],
            "image/png": "[encoded data removed]"
          },
          "metadata": {
            "needs_background": "light"
          }
        }
      ]
    },
    {
      "cell_type": "code",
      "source": [
        "from sklearn.model_selection import train_test_split\n",
        "X_train, X_test, Y_train, Y_test = train_test_split(X1, Y1)\n",
        "Y_test=Y_test.reshape(25,1)\n",
        "Y_train=Y_train.reshape(75,1)\n",
        "print(X_train.shape)\n",
        "print(Y_train.shape)\n",
        "print(X_test.shape)\n",
        "print(Y_test.shape)"
      ],
      "metadata": {
        "id": "sljF3BWxZMAf",
        "colab": {
          "base_uri": "https://localhost:8080/"
        },
        "outputId": "46bf2454-63c4-44ef-e093-8db540a357cf"
      },
      "execution_count": 41,
      "outputs": [
        {
          "output_type": "stream",
          "name": "stdout",
          "text": [
            "(75, 2)\n",
            "(75, 1)\n",
            "(25, 2)\n",
            "(25, 1)\n"
          ]
        }
      ]
    },
    {
      "cell_type": "code",
      "source": [
        "class Perceptron():\n",
        "\n",
        "    def __init__(self):\n",
        "        pass\n",
        "\n",
        "    def train(self, X, Y, learning_rate, n_iters):\n",
        "        n_samples, n_features = X.shape\n",
        "        self.weights = np.zeros((n_features,1))\n",
        "        self.bias = 0\n",
        "        for i in range(n_iters):\n",
        "            a = np.dot(X, self.weights) + self.bias\n",
        "            Y_predict = self.step_function(a)\n",
        "            delta_w = learning_rate * np.dot(X.T, (Y - Y_predict))\n",
        "            delta_b = learning_rate * np.sum(Y - Y_predict)\n",
        "            self.weights += delta_w\n",
        "            self.bias += delta_b\n",
        "        return self.weights, self.bias\n",
        "\n",
        "    def step_function(self, x):\n",
        "        return np.array([1 if elem >= 0 else 0 for elem in x])[:, np.newaxis]\n",
        "\n",
        "    def predict(self, X):\n",
        "        a = np.dot(X, self.weights) + self.bias\n",
        "        return self.step_function(a)"
      ],
      "metadata": {
        "id": "qIRUvo27FI9D"
      },
      "execution_count": 42,
      "outputs": []
    },
    {
      "cell_type": "code",
      "source": [
        "p = Perceptron()\n",
        "w_trained, b_trained = p.train(X_train, Y_train,learning_rate=0.001, n_iters=100)"
      ],
      "metadata": {
        "id": "8uQglejUFfyU"
      },
      "execution_count": 43,
      "outputs": []
    },
    {
      "cell_type": "code",
      "source": [
        "print(w_trained)\n",
        "print(b_trained)"
      ],
      "metadata": {
        "colab": {
          "base_uri": "https://localhost:8080/"
        },
        "id": "nniY1Fp6FhFq",
        "outputId": "9d77eefb-89dc-4a5e-d72d-fdbcd48b004f"
      },
      "execution_count": 44,
      "outputs": [
        {
          "output_type": "stream",
          "name": "stdout",
          "text": [
            "[[ 0.00511802]\n",
            " [-0.05641301]]\n",
            "0.008\n"
          ]
        }
      ]
    },
    {
      "cell_type": "code",
      "source": [
        "x=[-2,-1,0,1,2,3,4]\n",
        "a=w_trained[0]\n",
        "b=w_trained[1]\n",
        "c=b_trained\n",
        "print(a)\n",
        "print(b)\n",
        "print(c)\n",
        "x=np.array(x)\n",
        "y=[-1*(a*i+c)/b for i in x]\n",
        "y=np.array(y)\n",
        "y"
      ],
      "metadata": {
        "colab": {
          "base_uri": "https://localhost:8080/"
        },
        "id": "Uo_ms5nIGlXz",
        "outputId": "17f0ed45-a717-4694-d791-bb1cb20edcde"
      },
      "execution_count": 45,
      "outputs": [
        {
          "output_type": "stream",
          "name": "stdout",
          "text": [
            "[0.00511802]\n",
            "[-0.05641301]\n",
            "0.008\n"
          ]
        },
        {
          "output_type": "execute_result",
          "data": {
            "text/plain": [
              "array([[-0.03963699],\n",
              "       [ 0.05108714],\n",
              "       [ 0.14181126],\n",
              "       [ 0.23253539],\n",
              "       [ 0.32325952],\n",
              "       [ 0.41398364],\n",
              "       [ 0.50470777]])"
            ]
          },
          "metadata": {},
          "execution_count": 45
        }
      ]
    },
    {
      "cell_type": "code",
      "source": [
        "plt.plot(x,y)\n",
        "plt.scatter(lower_moon_x,lower_moon_y, color='r')\n",
        "plt.scatter(upper_moon_x,upper_moon_y, color='g')\n",
        "plt.title('Results on all 100 data points')\n",
        "plt.show()"
      ],
      "metadata": {
        "colab": {
          "base_uri": "https://localhost:8080/",
          "height": 281
        },
        "id": "zxE0I9yxLGyT",
        "outputId": "833931f4-ed49-410f-b441-ddee5dc64b9a"
      },
      "execution_count": 46,
      "outputs": [
        {
          "output_type": "display_data",
          "data": {
            "text/plain": [
              "<Figure size 432x288 with 1 Axes>"
            ],
            "image/png": "[encoded data removed]"
          },
          "metadata": {
            "needs_background": "light"
          }
        }
      ]
    },
    {
      "cell_type": "code",
      "source": [
        "upper_moon_x=[]\n",
        "upper_moon_y=[]\n",
        "for i in range(0,len(Y_train)):\n",
        "  if Y_train[i]==1:\n",
        "    upper_moon_x.append(x_ind[i])\n",
        "    upper_moon_y.append(y_ind[i])\n",
        "plt.scatter(upper_moon_x,upper_moon_y, color='g')\n",
        "lower_moon_x=[]\n",
        "lower_moon_y=[]\n",
        "for i in range(0,len(Y_train)):\n",
        "  if Y_train[i]==0:\n",
        "    lower_moon_x.append(x_ind[i])\n",
        "    lower_moon_y.append(y_ind[i])\n",
        "plt.scatter(lower_moon_x,lower_moon_y, color='r')\n",
        "plt.plot(x,y)\n",
        "plt.title('Results on Training data points')\n",
        "plt.show()"
      ],
      "metadata": {
        "colab": {
          "base_uri": "https://localhost:8080/",
          "height": 281
        },
        "id": "6vOzUFqcL2Kw",
        "outputId": "2c5bc455-05dc-489c-8723-95a7d2c03f2c"
      },
      "execution_count": 47,
      "outputs": [
        {
          "output_type": "display_data",
          "data": {
            "text/plain": [
              "<Figure size 432x288 with 1 Axes>"
            ],
            "image/png": "[encoded data removed]"
          },
          "metadata": {
            "needs_background": "light"
          }
        }
      ]
    },
    {
      "cell_type": "code",
      "source": [
        "upper_moon_x=[]\n",
        "upper_moon_y=[]\n",
        "for i in range(0,len(Y_test)):\n",
        "  if Y_train[i]==1:\n",
        "    upper_moon_x.append(x_ind[i])\n",
        "    upper_moon_y.append(y_ind[i])\n",
        "plt.scatter(upper_moon_x,upper_moon_y, color='g')\n",
        "lower_moon_x=[]\n",
        "lower_moon_y=[]\n",
        "for i in range(0,len(Y_test)):\n",
        "  if Y_train[i]==0:\n",
        "    lower_moon_x.append(x_ind[i])\n",
        "    lower_moon_y.append(y_ind[i])\n",
        "plt.scatter(lower_moon_x,lower_moon_y, color='r')\n",
        "plt.plot(x,y)\n",
        "plt.title('Results on testing data points')\n",
        "plt.show()"
      ],
      "metadata": {
        "colab": {
          "base_uri": "https://localhost:8080/",
          "height": 281
        },
        "id": "IUi1pIH4OXm0",
        "outputId": "faa8aed8-c080-4ecb-e7f2-3e85ac25e687"
      },
      "execution_count": 48,
      "outputs": [
        {
          "output_type": "display_data",
          "data": {
            "text/plain": [
              "<Figure size 432x288 with 1 Axes>"
            ],
            "image/png": "[encoded data removed]"
          },
          "metadata": {
            "needs_background": "light"
          }
        }
      ]
    },
    {
      "cell_type": "code",
      "source": [],
      "metadata": {
        "id": "iNpssyAoOsDM"
      },
      "execution_count": 48,
      "outputs": []
    }
  ]
}